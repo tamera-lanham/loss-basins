{
 "cells": [
  {
   "cell_type": "code",
   "execution_count": null,
   "id": "fbfef44d",
   "metadata": {},
   "outputs": [],
   "source": [
    "import torch as t\n",
    "import torch.nn as nn\n",
    "import torchvision\n",
    "from tqdm import tqdm\n",
    "import matplotlib.pyplot as plt"
   ]
  },
  {
   "cell_type": "code",
   "execution_count": null,
   "id": "cd3e6d4e",
   "metadata": {},
   "outputs": [],
   "source": [
    "train, test = get_data(100)\n",
    "train_iter = loader_gen(train)"
   ]
  },
  {
   "cell_type": "code",
   "execution_count": null,
   "id": "14f6d238",
   "metadata": {},
   "outputs": [],
   "source": [
    "x = next(train_iter)"
   ]
  },
  {
   "cell_type": "code",
   "execution_count": null,
   "id": "6a44a6d4",
   "metadata": {},
   "outputs": [],
   "source": [
    "len(x)"
   ]
  },
  {
   "cell_type": "code",
   "execution_count": null,
   "id": "136436d8",
   "metadata": {},
   "outputs": [],
   "source": [
    "x[0].shape"
   ]
  },
  {
   "cell_type": "code",
   "execution_count": null,
   "id": "85457fcd",
   "metadata": {},
   "outputs": [],
   "source": [
    "x[1]"
   ]
  },
  {
   "cell_type": "code",
   "execution_count": null,
   "id": "65b1b2ed",
   "metadata": {},
   "outputs": [],
   "source": [
    "x = next(data)"
   ]
  },
  {
   "cell_type": "code",
   "execution_count": null,
   "id": "ed92880a",
   "metadata": {},
   "outputs": [],
   "source": [
    "def get_data(batch_size):\n",
    "\n",
    "    train_dataset = torchvision.datasets.MNIST(\n",
    "        root=\"./_data\", train=True, download=True,\n",
    "        transform=torchvision.transforms.ToTensor()\n",
    "    )\n",
    "    train_loader = t.utils.data.DataLoader(\n",
    "        train_dataset, batch_size=batch_size, shuffle=True, num_workers=1\n",
    "    )\n",
    "\n",
    "    test_dataset = torchvision.datasets.MNIST(\n",
    "        root=\"./_data\", train=False, download=True,\n",
    "        transform=torchvision.transforms.ToTensor()\n",
    "    )\n",
    "    test_loader = t.utils.data.DataLoader(\n",
    "        test_dataset, batch_size=batch_size, shuffle=True, num_workers=1\n",
    "    )\n",
    "    \n",
    "    return train_loader, test_loader\n",
    "\n",
    "    \n",
    "def loader_gen(loader):\n",
    "    for x in loader: yield x"
   ]
  },
  {
   "cell_type": "code",
   "execution_count": null,
   "id": "4792ed9b",
   "metadata": {},
   "outputs": [],
   "source": [
    "class ConvNet(nn.Module):\n",
    "    def __init__(self):\n",
    "        super().__init__()\n",
    "        self.conv_layers = nn.Sequential(\n",
    "            nn.Conv2d(1, 6, 5),\n",
    "            nn.ReLU(),\n",
    "            nn.MaxPool2d(2),\n",
    "            nn.Conv2d(6, 12, 5),\n",
    "            nn.ReLU(),\n",
    "            nn.MaxPool2d(2),\n",
    "        )\n",
    "        self.linear_layers = nn.Sequential(\n",
    "            nn.Linear(12 * 4 * 4, 10)\n",
    "        )\n",
    "\n",
    "    def forward(self, x):\n",
    "        conv = self.conv_layers(x).flatten(-3)\n",
    "        return self.linear_layers(conv)\n",
    "\n",
    "\n",
    "if t.cuda.device_count(): device = 'cuda:0'\n",
    "else: device = 'cpu'\n",
    "\n",
    "model = ConvNet()\n",
    "print('num model params:', sum([p.numel() for p in model.parameters()]))\n",
    "\n",
    "n_epochs, batch_size = 3, 100\n",
    "loss_fn = t.nn.CrossEntropyLoss()\n",
    "optimizer = t.optim.Adam(model.parameters())\n",
    "train_loader, test_loader = get_data(batch_size)\n",
    "val_freq = int(len(train_loader) / len(test_loader))\n",
    "losses, val_losses = [], []\n",
    "\n",
    "model.train()\n",
    "with tqdm(total = n_epochs * len(train_loader)) as pbar:\n",
    "    for epoch in range(n_epochs):\n",
    "        val_iter = loader_gen(test_loader)\n",
    "        \n",
    "        for i, (X, y) in enumerate(train_loader):\n",
    "            X.to(device), y.to(device)\n",
    "            \n",
    "            optimizer.zero_grad()\n",
    "            y_pred = model(X)\n",
    "            loss = loss_fn(y_pred, y)\n",
    "            loss.backward()\n",
    "            optimizer.step()\n",
    "            \n",
    "            losses.append(loss.detach())\n",
    "            pbar.update()\n",
    "            pbar.set_postfix({'loss': '%.4f' % float(loss.detach())})\n",
    "            \n",
    "            if i % val_freq == 0:\n",
    "                val_X, val_y = next(val_iter)\n",
    "                val_X.to(device), val_y.to(device)\n",
    "                with t.no_grad():\n",
    "                    val_y_pred = model(val_X)\n",
    "                    val_loss = loss_fn(val_y_pred, val_y)\n",
    "                val_losses.append((epoch * len(train_loader) + i, val_loss.detach()))\n",
    "                \n",
    "            "
   ]
  },
  {
   "cell_type": "code",
   "execution_count": null,
   "id": "e8d4b927",
   "metadata": {},
   "outputs": [],
   "source": [
    "plt.plot(losses)\n",
    "plt.plot(*zip(*val_losses))"
   ]
  },
  {
   "cell_type": "code",
   "execution_count": null,
   "id": "9bbf8331",
   "metadata": {},
   "outputs": [],
   "source": [
    "# Simple accuracy score \n",
    "\n",
    "model.eval()\n",
    "\n",
    "correct, total = 0, 0\n",
    "for X, y in tqdm(test_loader):\n",
    "    y_pred = model(X)\n",
    "    correct += sum(y_pred.argmax(1) == y)\n",
    "    total += y.shape[0]\n",
    "    \n",
    "print(correct / total)"
   ]
  },
  {
   "cell_type": "code",
   "execution_count": null,
   "id": "a32066d0",
   "metadata": {},
   "outputs": [],
   "source": [
    "# Are classes balanced?\n",
    "from collections import Counter\n",
    "\n",
    "c = Counter()\n",
    "[c.update(y.tolist()) for X, y in train_loader]\n",
    "[c.update(y.tolist()) for X, y in test_loader]\n",
    "c\n",
    "#plt.bar(*zip(*sorted(c.items(), key=lambda kv: kv[0])));"
   ]
  },
  {
   "cell_type": "markdown",
   "id": "8198fc3f-5d79-4422-9762-e6f5489165da",
   "metadata": {},
   "source": [
    "**Basin dimensionality code is in cifar_conv**"
   ]
  }
 ],
 "metadata": {
  "kernelspec": {
   "display_name": "Python 3 (ipykernel)",
   "language": "python",
   "name": "python3"
  },
  "language_info": {
   "codemirror_mode": {
    "name": "ipython",
    "version": 3
   },
   "file_extension": ".py",
   "mimetype": "text/x-python",
   "name": "python",
   "nbconvert_exporter": "python",
   "pygments_lexer": "ipython3",
   "version": "3.9.7"
  }
 },
 "nbformat": 4,
 "nbformat_minor": 5
}
