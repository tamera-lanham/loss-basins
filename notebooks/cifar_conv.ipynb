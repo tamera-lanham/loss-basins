{
 "cells": [
  {
   "cell_type": "code",
   "execution_count": null,
   "id": "1b3d0bb6-f089-46aa-bf46-6048be131b79",
   "metadata": {},
   "outputs": [],
   "source": [
    "import torch as t\n",
    "import torch.nn as nn\n",
    "import torchvision\n",
    "from tqdm import tqdm\n",
    "import matplotlib.pyplot as plt"
   ]
  },
  {
   "cell_type": "code",
   "execution_count": null,
   "id": "d9e226e3-ee21-49d0-baf1-e601057aca24",
   "metadata": {},
   "outputs": [],
   "source": [
    "def get_data(batch_size):\n",
    "    transforms = torchvision.transforms.Compose([\n",
    "        torchvision.transforms.ToTensor(),\n",
    "        torchvision.transforms.Normalize((0.5, 0.5, 0.5), (0.5, 0.5, 0.5))\n",
    "    ])\n",
    "\n",
    "    train_dataset = torchvision.datasets.CIFAR10(\n",
    "        root=\"./_data\", train=True, download=True,\n",
    "        transform=transforms\n",
    "    )\n",
    "    train_loader = t.utils.data.DataLoader(\n",
    "        train_dataset, batch_size=batch_size, shuffle=True, num_workers=1\n",
    "    )\n",
    "\n",
    "    test_dataset = torchvision.datasets.CIFAR10(\n",
    "        root=\"./_data\", train=False, download=True,\n",
    "        transform=transforms\n",
    "    )\n",
    "    test_loader = t.utils.data.DataLoader(\n",
    "        test_dataset, batch_size=batch_size, shuffle=True, num_workers=1\n",
    "    )\n",
    "    \n",
    "    return train_loader, test_loader"
   ]
  },
  {
   "cell_type": "code",
   "execution_count": null,
   "id": "611ef27d-393c-43f5-8002-adce2903874b",
   "metadata": {},
   "outputs": [
    {
     "name": "stdout",
     "output_type": "stream",
     "text": [
      "num model params: 5852234\n",
      "Files already downloaded and verified\n",
      "Files already downloaded and verified\n"
     ]
    },
    {
     "name": "stderr",
     "output_type": "stream",
     "text": [
      "100%|██████████████████████████████████████████████████████| 1500/1500 [11:07<00:00,  2.25it/s, train loss=0.4285, val loss=0.4443]\n"
     ]
    }
   ],
   "source": [
    "class ConvNet(nn.Module):\n",
    "    def __init__(self):\n",
    "        super().__init__()\n",
    "        self.conv_layers = nn.Sequential(\n",
    "            nn.Conv2d(3, 32, kernel_size=3, padding=1),\n",
    "            nn.ReLU(),\n",
    "            nn.Conv2d(32, 64, kernel_size=3, stride=1, padding=1),\n",
    "            nn.ReLU(),\n",
    "            nn.MaxPool2d(2), # shape: (64, 16, 16)\n",
    "            nn.BatchNorm2d(64),\n",
    "\n",
    "            nn.Conv2d(64, 128, kernel_size=3, stride=1, padding=1),\n",
    "            nn.ReLU(),\n",
    "            nn.Conv2d(128, 128, kernel_size=3, stride=1, padding=1),\n",
    "            nn.ReLU(),\n",
    "            nn.MaxPool2d(2), # shape: (128, 8, 8)\n",
    "            nn.BatchNorm2d(128),\n",
    "\n",
    "            nn.Conv2d(128, 256, kernel_size=3, stride=1, padding=1),\n",
    "            nn.ReLU(),\n",
    "            nn.Conv2d(256, 256, kernel_size=3, stride=1, padding=1),\n",
    "            nn.ReLU(),\n",
    "            nn.MaxPool2d(2), # shape: (256, 4, 4)\n",
    "            nn.BatchNorm2d(256),\n",
    "        )\n",
    "        \n",
    "        self.linear_layers = nn.Sequential(\n",
    "            nn.Linear(256 * 4 * 4, 1024),\n",
    "            nn.ReLU(),\n",
    "            nn.Linear(1024, 512),\n",
    "            nn.ReLU(),\n",
    "            nn.Linear(512, 10)\n",
    "        )\n",
    "\n",
    "    def forward(self, x):\n",
    "        conv = self.conv_layers(x).flatten(-3)\n",
    "        return self.linear_layers(conv)\n",
    "    \n",
    "def loader_gen(loader):\n",
    "    for x in loader: yield x\n",
    "\n",
    "if t.cuda.device_count(): device = 'cuda:0'\n",
    "else: device = 'cpu'\n",
    "\n",
    "model = ConvNet()\n",
    "print('num model params:', sum([p.numel() for p in model.parameters()]))\n",
    "\n",
    "n_epochs, batch_size = 3, 100\n",
    "loss_fn = t.nn.CrossEntropyLoss()\n",
    "optimizer = t.optim.Adam(model.parameters())\n",
    "train_loader, test_loader = get_data(batch_size)\n",
    "val_freq = int(len(train_loader) / len(test_loader))\n",
    "losses, val_losses = [], []\n",
    "\n",
    "model.train()\n",
    "with tqdm(total = n_epochs * len(train_loader)) as pbar:\n",
    "    for epoch in range(n_epochs):\n",
    "        val_iter = loader_gen(test_loader)\n",
    "        val_loss = float('inf')\n",
    "        \n",
    "        for i, (X, y) in enumerate(train_loader):\n",
    "            X.to(device), y.to(device)\n",
    "            \n",
    "            optimizer.zero_grad()\n",
    "            y_pred = model(X)\n",
    "            loss = loss_fn(y_pred, y)\n",
    "            loss.backward()\n",
    "            optimizer.step()\n",
    "            \n",
    "            losses.append(loss.detach())\n",
    "            pbar.update()\n",
    "            \n",
    "            if i % val_freq == 0:\n",
    "                val_X, val_y = next(val_iter)\n",
    "                val_X.to(device), val_y.to(device)\n",
    "                with t.no_grad():\n",
    "                    val_y_pred = model(val_X)\n",
    "                    val_loss = loss_fn(val_y_pred, val_y)\n",
    "                val_losses.append((epoch * len(train_loader) + i, val_loss.detach()))\n",
    "                \n",
    "            pbar.set_postfix({'train loss': '%.4f' % float(loss.detach()), 'val loss': '%.4f' % float(val_loss.detach())})\n",
    "                \n",
    "                \n",
    "                \n",
    "            "
   ]
  },
  {
   "cell_type": "code",
   "execution_count": null,
   "id": "f7f7c434-6e55-4ad9-8c06-31623e548cc3",
   "metadata": {},
   "outputs": [
    {
     "data": {
      "image/png": "[encoded data removed]",
      "text/plain": [
       "<Figure size 432x288 with 1 Axes>"
      ]
     },
     "metadata": {
      "needs_background": "light"
     },
     "output_type": "display_data"
    }
   ],
   "source": [
    "plt.plot(losses)\n",
    "plt.plot(*zip(*val_losses));"
   ]
  },
  {
   "cell_type": "code",
   "execution_count": null,
   "id": "820e2288-932c-4e6d-8019-498d7104ce23",
   "metadata": {},
   "outputs": [
    {
     "name": "stderr",
     "output_type": "stream",
     "text": [
      "100%|████████████████████████████████████████████████████████████████████████████████████████████| 100/100 [00:16<00:00,  5.99it/s]"
     ]
    },
    {
     "name": "stdout",
     "output_type": "stream",
     "text": [
      "tensor(0.8005)\n"
     ]
    },
    {
     "name": "stderr",
     "output_type": "stream",
     "text": [
      "\n"
     ]
    }
   ],
   "source": [
    "# Simple accuracy score \n",
    "\n",
    "model.eval()\n",
    "\n",
    "correct, total = 0, 0\n",
    "for X, y in tqdm(test_loader):\n",
    "    y_pred = model(X)\n",
    "    correct += sum(y_pred.argmax(1) == y)\n",
    "    total += y.shape[0]\n",
    "    \n",
    "print(correct / total)"
   ]
  },
  {
   "cell_type": "code",
   "execution_count": null,
   "id": "58e5bd03-3d8e-4e05-be07-494c1a340e5f",
   "metadata": {},
   "outputs": [],
   "source": [
    "# Are classes balanced?\n",
    "from collections import Counter\n",
    "\n",
    "c = Counter()\n",
    "[c.update(y.tolist()) for X, y in train_loader]\n",
    "[c.update(y.tolist()) for X, y in test_loader]\n",
    "plt.bar(*zip(*sorted(c.items(), key=lambda kv: kv[0])));\n",
    "\n",
    "c"
   ]
  },
  {
   "cell_type": "markdown",
   "id": "46dc536a-a005-4e11-9224-026af3f50910",
   "metadata": {},
   "source": [
    "**Basin dimensionality code**"
   ]
  },
  {
   "cell_type": "code",
   "execution_count": null,
   "id": "438bf8bf",
   "metadata": {},
   "outputs": [],
   "source": [
    "import functools, operator\n",
    "\n",
    "# Unfinished, based on https://discuss.pytorch.org/t/computing-hessian-for-loss-function/67216\n",
    "# This is for the slow way of computing dimensionality, just to cross-check on mnist\n",
    "def hessian(model):\n",
    "  loss = torch.nn.CrossEntropyLoss         \n",
    "  loss.backward(retain_graph=True)\n",
    "  grad_params = torch.autograd.grad(loss, p, create_graph=True)  # p is the weight matrix for a particular layer \n",
    "  hess_params = torch.zeros_like(grad_params[0])\n",
    "\n",
    "  for i in range(grad_params[0].size(0)):\n",
    "      for j in range(grad_params[0].size(1)):\n",
    "          hess_params[i, j] = torch.autograd.grad(grad_params[0][i][j], p, retain_graph=True)[0][i, j]\n",
    "\n",
    "# Number of parameters\n",
    "def nParams(model):\n",
    "  sum = 0\n",
    "  for params in model.parameters():\n",
    "    sum += functools.reduce(operator.mul, params.size())\n",
    "  return sum\n",
    "\n",
    "#print(nParams(model))\n",
    "\n",
    "# Binary seach to find basin dimensionality\n",
    "def basinDimensionality(model):\n",
    "  N = nParams(model)\n",
    "  min = 0\n",
    "  max = N\n",
    "  while min != max:\n",
    "    k = min + (max-min)//2\n",
    "    result = testDim(model, k, N)\n",
    "    if result == \"no solution\":\n",
    "      max = k-1\n",
    "    elif result == \"solution\":\n",
    "      min = k\n",
    "    else:\n",
    "      print(\"grey area -- parallel at \" + k)\n",
    "      return k\n",
    "  return k\n",
    "\n",
    "\n",
    "# Converts a model to a flattened parameter vector\n",
    "def modelToVec(model):\n",
    "  return torch.tensor(model.parameters()).flatten().detach()\n",
    "\n",
    "# Loads a parameter vector into a model\n",
    "def vecToModel(vec, blank):\n",
    "  with torch.no_grad():\n",
    "    index = 0\n",
    "    for paramset in blank.parameters():\n",
    "      end = index + functools.reduce(operator.mul, paramset.size())\n",
    "      paramset.copy_(vec[index : end])\n",
    "      index = end\n",
    "    return blank\n",
    "\n",
    "# Test whether the dimension we guessed is too high or too low. Called from the binary search.\n",
    "def testDim(model, k, N):\n",
    "  #Centered\n",
    "  \n",
    "\n",
    "  #Uncentered\n",
    "\n",
    "  pass"
   ]
  },
  {
   "cell_type": "code",
   "execution_count": null,
   "id": "db435ad4-c0eb-4608-9256-88b5301d313c",
   "metadata": {},
   "outputs": [],
   "source": []
  }
 ],
 "metadata": {
  "kernelspec": {
   "display_name": "",
   "name": ""
  },
  "language_info": {
   "name": ""
  }
 },
 "nbformat": 4,
 "nbformat_minor": 5
}
